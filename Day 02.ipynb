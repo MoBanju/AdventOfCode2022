{
 "cells": [
  {
   "cell_type": "markdown",
   "metadata": {},
   "source": [
    "# Day 2"
   ]
  },
  {
   "cell_type": "code",
   "execution_count": 20,
   "metadata": {},
   "outputs": [],
   "source": [
    "gameInput = open(\"Input/Day02Input.txt\", \"r\").readlines()\n",
    "ROCK = 1\n",
    "PAPER = 2\n",
    "SCISSORS = 3\n",
    "\n",
    "ElfChoice = {\n",
    "    \"A\": ROCK,\n",
    "    \"B\": PAPER,\n",
    "    \"C\": SCISSORS,\n",
    "}\n",
    "\n",
    "MyChoice = {\n",
    "    \"X\": ROCK,\n",
    "    \"Y\": PAPER,\n",
    "    \"Z\": SCISSORS,\n",
    "}"
   ]
  },
  {
   "cell_type": "markdown",
   "metadata": {},
   "source": []
  },
  {
   "cell_type": "code",
   "execution_count": 25,
   "metadata": {},
   "outputs": [],
   "source": [
    "MyScore = 0\n",
    "ElfScore = 0\n",
    "\n",
    "for round in gameInput:\n",
    "    if(ElfChoice[round.split()[0]] < MyChoice[round.split()[1]]):\n",
    "        MyScore += MyChoice[round.split()[1]] + 6\n",
    "        # ElfScore += ElfChoice[round.split()[0]]\n",
    "    elif(ElfChoice[round.split()[0]] > MyChoice[round.split()[1]]):\n",
    "        # ElfScore += ElfChoice[round.split()[0]] + 6\n",
    "        MyScore += MyChoice[round.split()[1]]\n",
    "    else:\n",
    "        # ElfScore += ElfChoice[round.split()[0]] + 3\n",
    "        MyScore += MyChoice[round.split()[1]] + 3\n",
    "    #print(MyScore)"
   ]
  },
  {
   "cell_type": "markdown",
   "metadata": {},
   "source": []
  },
  {
   "cell_type": "code",
   "execution_count": 24,
   "metadata": {},
   "outputs": [
    {
     "name": "stdout",
     "output_type": "stream",
     "text": [
      "12668\n"
     ]
    }
   ],
   "source": [
    "print(MyScore)"
   ]
  },
  {
   "cell_type": "code",
   "execution_count": 26,
   "metadata": {},
   "outputs": [
    {
     "name": "stdout",
     "output_type": "stream",
     "text": [
      "1\n",
      "2\n"
     ]
    }
   ],
   "source": [
    "print(ElfChoice[gameInput[0].split()[0]])\n",
    "print(MyChoice[gameInput[0].split()[1]])"
   ]
  }
 ],
 "metadata": {
  "kernelspec": {
   "display_name": "Python 3.10.8 64-bit (microsoft store)",
   "language": "python",
   "name": "python3"
  },
  "language_info": {
   "codemirror_mode": {
    "name": "ipython",
    "version": 3
   },
   "file_extension": ".py",
   "mimetype": "text/x-python",
   "name": "python",
   "nbconvert_exporter": "python",
   "pygments_lexer": "ipython3",
   "version": "3.10.8"
  },
  "orig_nbformat": 4,
  "vscode": {
   "interpreter": {
    "hash": "b54d0d50b8b1df16a55267d85c471557dea9146666dc1c4de232cfd5d8dbd17d"
   }
  }
 },
 "nbformat": 4,
 "nbformat_minor": 2
}

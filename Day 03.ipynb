{
 "cells": [
  {
   "cell_type": "markdown",
   "metadata": {},
   "source": [
    "# Day 3"
   ]
  },
  {
   "cell_type": "code",
   "execution_count": 84,
   "metadata": {},
   "outputs": [],
   "source": [
    "rucksacksInput = open(\"Input/Day03Input.txt\", \"r\").readlines()"
   ]
  },
  {
   "cell_type": "markdown",
   "metadata": {},
   "source": [
    "Item types with priority values"
   ]
  },
  {
   "cell_type": "code",
   "execution_count": 56,
   "metadata": {},
   "outputs": [],
   "source": [
    "Types = {}\n",
    "item = \"\"\n",
    "priority = 0\n",
    "for i in range(97,123):\n",
    "    # print(type(chr(i)))\n",
    "    item = chr(i)\n",
    "    priority += 1\n",
    "    Types[item] = priority\n",
    "\n",
    "for i in range(65,91):\n",
    "    item = chr(i)\n",
    "    priority += 1\n",
    "    Types[item] = priority\n"
   ]
  },
  {
   "cell_type": "markdown",
   "metadata": {},
   "source": [
    "## Part 1"
   ]
  },
  {
   "cell_type": "markdown",
   "metadata": {},
   "source": [
    "Divides the rucksack in half"
   ]
  },
  {
   "cell_type": "code",
   "execution_count": 28,
   "metadata": {},
   "outputs": [],
   "source": [
    "def rucksackHalf(rucksack):\n",
    "    compartment1 = rucksack[:len(rucksack)//2]\n",
    "    compartment2 = rucksack[len(rucksack)//2:len(rucksack)]\n",
    "    if (\"\\n\" in compartment2):\n",
    "        compartment2 = compartment2.replace(\"\\n\",\"\")\n",
    "    return compartment1, compartment2"
   ]
  },
  {
   "cell_type": "markdown",
   "metadata": {},
   "source": [
    "Checks the common type on each half rucksack"
   ]
  },
  {
   "cell_type": "code",
   "execution_count": 77,
   "metadata": {},
   "outputs": [],
   "source": [
    "def countCommonType(rucksack):\n",
    "    commonType = list(set(rucksackHalf(rucksack)[0])&set(rucksackHalf(rucksack)[1]))\n",
    "    return Types[commonType[0]]"
   ]
  },
  {
   "cell_type": "markdown",
   "metadata": {},
   "source": [
    "Sum of priorities on those types"
   ]
  },
  {
   "cell_type": "code",
   "execution_count": null,
   "metadata": {},
   "outputs": [],
   "source": [
    "total = 0\n",
    "for rucksack in rucksacksInput:\n",
    "    total += countCommonType(rucksack)\n",
    "total"
   ]
  },
  {
   "cell_type": "markdown",
   "metadata": {},
   "source": [
    "## Part 2"
   ]
  },
  {
   "cell_type": "markdown",
   "metadata": {},
   "source": [
    "Each group will have 3 lines"
   ]
  },
  {
   "cell_type": "code",
   "execution_count": null,
   "metadata": {},
   "outputs": [],
   "source": [
    "rucksacksInput3 = []\n",
    "for i in range(0, len(rucksacksInput), 3):\n",
    "    rucksacksInput3.append(rucksacksInput[i:i+3])\n",
    "#rucksacksInput3"
   ]
  },
  {
   "cell_type": "markdown",
   "metadata": {},
   "source": [
    "Checks the common type on group"
   ]
  },
  {
   "cell_type": "code",
   "execution_count": 82,
   "metadata": {},
   "outputs": [],
   "source": [
    "def countCommonType3(rucksack):\n",
    "    commonType = list(set(rucksack[0])&set(rucksack[1])&set(rucksack[2]))\n",
    "    if (\"\\n\" in commonType):\n",
    "        commonType.remove(\"\\n\")\n",
    "    #print(commonType)\n",
    "    return Types[commonType[0]]"
   ]
  },
  {
   "cell_type": "markdown",
   "metadata": {},
   "source": [
    "Sum of priorities on those types"
   ]
  },
  {
   "cell_type": "code",
   "execution_count": null,
   "metadata": {},
   "outputs": [],
   "source": [
    "total3 = 0\n",
    "for rucksackg in rucksacksInput3:\n",
    "    total3 += countCommonType3(rucksackg)\n",
    "total3"
   ]
  }
 ],
 "metadata": {
  "kernelspec": {
   "display_name": "Python 3.10.8 64-bit (microsoft store)",
   "language": "python",
   "name": "python3"
  },
  "language_info": {
   "codemirror_mode": {
    "name": "ipython",
    "version": 3
   },
   "file_extension": ".py",
   "mimetype": "text/x-python",
   "name": "python",
   "nbconvert_exporter": "python",
   "pygments_lexer": "ipython3",
   "version": "3.10.8"
  },
  "orig_nbformat": 4,
  "vscode": {
   "interpreter": {
    "hash": "b54d0d50b8b1df16a55267d85c471557dea9146666dc1c4de232cfd5d8dbd17d"
   }
  }
 },
 "nbformat": 4,
 "nbformat_minor": 2
}

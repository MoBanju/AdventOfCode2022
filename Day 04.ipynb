{
 "cells": [
  {
   "cell_type": "markdown",
   "metadata": {},
   "source": [
    "# Day 4"
   ]
  },
  {
   "cell_type": "code",
   "execution_count": 9,
   "metadata": {},
   "outputs": [
    {
     "name": "stdout",
     "output_type": "stream",
     "text": [
      "['2-5', '15-90\\n']\n"
     ]
    }
   ],
   "source": [
    "sectionAssignmentsInput = open(\"Input/Day04Input.txt\", \"r\").readlines()\n",
    "print(sectionAssignmentsInput[0].split(\",\"))"
   ]
  },
  {
   "cell_type": "markdown",
   "metadata": {},
   "source": [
    "## Part 1"
   ]
  },
  {
   "cell_type": "code",
   "execution_count": null,
   "metadata": {},
   "outputs": [],
   "source": [
    "def assignmentsPair(assignment):\n",
    "\n",
    "    pairs = assignment.split(\",\")\n",
    "    section1 = pairs[0]\n",
    "    section2 = pairs[1]\n",
    "    if (\"\\n\" in section2):\n",
    "        section2 = section2.replace(\"\\n\", \"\")\n",
    "    return section1, section2"
   ]
  },
  {
   "cell_type": "code",
   "execution_count": null,
   "metadata": {},
   "outputs": [],
   "source": []
  },
  {
   "cell_type": "code",
   "execution_count": 37,
   "metadata": {},
   "outputs": [],
   "source": [
    "def containsSection(assignment):\n",
    "    pairs = assignmentsPair(assignment)\n",
    "    section1 = [*range(int(pairs[0].split(\"-\")[0]), int(pairs[0].split(\"-\")[1]) + 1)]\n",
    "    section2 = [*range(int(pairs[1].split(\"-\")[0]), int(pairs[1].split(\"-\")[1]) + 1)]\n",
    "    if(len(section1)<len(section2)):\n",
    "        return any(section2[idx : idx + len(section1)] == section1\n",
    "            for idx in range(len(section2) - len(section1) + 1))\n",
    "    return any(section1[idx : idx + len(section2)] == section2\n",
    "            for idx in range(len(section1) - len(section2) + 1))\n",
    "    "
   ]
  },
  {
   "cell_type": "code",
   "execution_count": null,
   "metadata": {},
   "outputs": [],
   "source": [
    "total = 0\n",
    "for assignmentPair in sectionAssignmentsInput:\n",
    "    if (containsSection(assignmentPair)):\n",
    "        total += 1\n",
    "total\n"
   ]
  },
  {
   "cell_type": "markdown",
   "metadata": {},
   "source": [
    "## Part 2"
   ]
  },
  {
   "cell_type": "code",
   "execution_count": null,
   "metadata": {},
   "outputs": [],
   "source": []
  }
 ],
 "metadata": {
  "kernelspec": {
   "display_name": "Python 3.10.8 64-bit (microsoft store)",
   "language": "python",
   "name": "python3"
  },
  "language_info": {
   "codemirror_mode": {
    "name": "ipython",
    "version": 3
   },
   "file_extension": ".py",
   "mimetype": "text/x-python",
   "name": "python",
   "nbconvert_exporter": "python",
   "pygments_lexer": "ipython3",
   "version": "3.10.8"
  },
  "orig_nbformat": 4,
  "vscode": {
   "interpreter": {
    "hash": "b54d0d50b8b1df16a55267d85c471557dea9146666dc1c4de232cfd5d8dbd17d"
   }
  }
 },
 "nbformat": 4,
 "nbformat_minor": 2
}
